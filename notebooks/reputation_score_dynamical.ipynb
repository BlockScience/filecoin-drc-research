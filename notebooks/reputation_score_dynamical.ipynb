{
 "cells": [
  {
   "cell_type": "markdown",
   "metadata": {},
   "source": [
    "# Dynamical Simulation for the Reputation Score\n",
    "\n",
    "Reference: https://hackmd.io/8CSLDfKNSAyyl-OfEzOdDQ"
   ]
  },
  {
   "cell_type": "markdown",
   "metadata": {},
   "source": [
    "## Depedences"
   ]
  },
  {
   "cell_type": "code",
   "execution_count": 22,
   "metadata": {},
   "outputs": [],
   "source": [
    "import scipy.stats as st\n",
    "from dataclasses import dataclass\n",
    "import seaborn as sns\n",
    "import plotly.express as px\n",
    "import numpy as np\n",
    "import matplotlib.pyplot as plt\n",
    "from scipy.stats import rankdata\n",
    "from tqdm.auto import tqdm\n",
    "from copy import deepcopy\n",
    "import xarray as xr\n",
    "import pandas as pd"
   ]
  },
  {
   "cell_type": "markdown",
   "metadata": {},
   "source": [
    "## Definitions"
   ]
  },
  {
   "cell_type": "code",
   "execution_count": 23,
   "metadata": {},
   "outputs": [],
   "source": [
    "from regex import R\n",
    "\n",
    "\n",
    "Filecoin = float\n",
    "Days = float\n",
    "\n",
    "\n",
    "@dataclass\n",
    "class Deal():\n",
    "    \"\"\"\n",
    "    State container for Deals.\n",
    "    \"\"\"\n",
    "\n",
    "    payment: Filecoin\n",
    "    collateral: Filecoin\n",
    "    duration: Days\n",
    "    start: Days\n",
    "    finished: bool = False\n",
    "    slashed: bool = False\n",
    "    is_early: bool = False\n",
    "\n",
    "    @property\n",
    "    def F(self):\n",
    "        return 1.0 if self.finished else 0.0\n",
    "\n",
    "    def payoff_1(self,\n",
    "                 slash_penalty: float) -> float:\n",
    "        \"\"\"\n",
    "        Deal Payoff associated with the \"Skin in the Game\" reputation.\n",
    "        \"\"\"\n",
    "        payoff = self.duration\n",
    "        \n",
    "        if self.slashed:\n",
    "            payoff *= slash_penalty\n",
    "        else:\n",
    "            payoff *= self.collateral\n",
    "            # Active deals only\n",
    "            payoff *= 1.0 if self.finished else 0.1\n",
    "        return payoff\n",
    "\n",
    "    def payoff_2(self,\n",
    "                 slash_penalty: float,\n",
    "                 early_multiplier: float) -> float:\n",
    "        \"\"\"\n",
    "        Deal Payoff associated with the Capacity reputation.\n",
    "        \"\"\"\n",
    "        payoff = self.duration\n",
    "        if self.slashed:\n",
    "            payoff *= slash_penalty\n",
    "        else:\n",
    "            payoff *= self.collateral\n",
    "            # Finished deals only\n",
    "            payoff *= 1.0 if self.finished else 0.0\n",
    "            payoff /= self.payment\n",
    "            payoff += early_multiplier if self.is_early else 0.0\n",
    "\n",
    "        return payoff\n",
    "\n",
    "\n",
    "@dataclass\n",
    "class Provider():\n",
    "    \"\"\"\n",
    "\n",
    "    \"\"\"\n",
    "    deals: list[Deal]\n",
    "\n",
    "    def payoff_1(self,\n",
    "                 slash_penalty: float,\n",
    "                 alpha: float) -> float:\n",
    "        \"\"\"\n",
    "        Provider Payoff associated with the \"Skin in the Game\" reputation.\n",
    "        \"\"\"\n",
    "\n",
    "        return sum(d.payoff_1(slash_penalty) ** alpha\n",
    "                   for d\n",
    "                   in self.deals)\n",
    "\n",
    "    def payoff_2(self,\n",
    "                 slash_penalty: float,\n",
    "                 alpha: float,\n",
    "                 early_multiplier: float) -> float:\n",
    "        \"\"\"\n",
    "        Provider Payoff associated with the Capacity reputation.\n",
    "        \"\"\"\n",
    "\n",
    "        return sum(d.payoff_2(slash_penalty, early_multiplier) ** alpha\n",
    "                   for d\n",
    "                   in self.deals)\n",
    "\n",
    "\n",
    "@dataclass\n",
    "class ReputationSystemState():\n",
    "    \"\"\"\n",
    "\n",
    "    \"\"\"\n",
    "    providers: list[Provider]\n",
    "    slash_penalty_1: float = -10\n",
    "    alpha_1: float = 1.0\n",
    "    slash_penalty_2: float = -10\n",
    "    alpha_2: float = 0.5\n",
    "    early_multiplier: float = 0.01\n",
    "\n",
    "    def rate_score(self,\n",
    "                   score: float) -> float:\n",
    "\n",
    "        if score < 0:\n",
    "            return None\n",
    "        elif score < 20:\n",
    "            return 1 + score * (1 / 20)\n",
    "        elif score < 50:\n",
    "            return 2 + (score - 20) * (1 / 30)\n",
    "        elif score < 80:\n",
    "            return 3 + (score - 50) * (1 / 30)\n",
    "        elif score < 95:\n",
    "            return 4 + (score - 80) * (1 / 30)\n",
    "        elif score <= 100:\n",
    "            return 4.5 + (score - 95) * (1 / 10)\n",
    "        else:\n",
    "            return None\n",
    "            \n",
    "\n",
    "    def rate_scores(self,\n",
    "                    norm_scores: list[float]) -> list[float]:\n",
    "        \"\"\"\n",
    "        Map a list of ranking-percentile numbers to an [1, 5] rule-based range.\n",
    "        \"\"\"\n",
    "        return [self.rate_score(s) for s in norm_scores]\n",
    "\n",
    "    def normalize_provider_payoffs(self,\n",
    "                                   payoffs: list[float]) -> list[float]:\n",
    "        \"\"\"\n",
    "        Normalize an list of payoffs to ranking-percentile, between 0 and 100.\n",
    "        \"\"\"\n",
    "        if len(payoffs) > 0:\n",
    "            provider_ranking = rankdata(payoffs)\n",
    "            provider_norm_ranking = 100 * provider_ranking / max(provider_ranking)\n",
    "            return provider_norm_ranking\n",
    "        else:\n",
    "            return []\n",
    "\n",
    "    def payoffs_1(self) -> list[float]:\n",
    "        provider_payoffs = [p.payoff_1(slash_penalty=self.slash_penalty_1,\n",
    "                                       alpha=self.alpha_1)\n",
    "                            for p\n",
    "                            in self.providers]\n",
    "        return provider_payoffs\n",
    "\n",
    "    def payoffs_2(self) -> list[float]:\n",
    "        provider_payoffs = [p.payoff_2(slash_penalty=self.slash_penalty_2,\n",
    "                                       alpha=self.alpha_2,\n",
    "                                       early_multiplier=self.early_multiplier)\n",
    "                            for p\n",
    "                            in self.providers]\n",
    "        return provider_payoffs\n"
   ]
  },
  {
   "cell_type": "markdown",
   "metadata": {},
   "source": [
    "## Simulations"
   ]
  },
  {
   "cell_type": "markdown",
   "metadata": {},
   "source": []
  },
  {
   "cell_type": "code",
   "execution_count": 24,
   "metadata": {},
   "outputs": [
    {
     "name": "stderr",
     "output_type": "stream",
     "text": [
      "Simulating Deals: 100%|██████████| 50/50 [00:00<00:00, 116.72it/s]\n"
     ]
    }
   ],
   "source": [
    "initial_system = ReputationSystemState(providers=[],\n",
    "                                       slash_penalty_1=-10,\n",
    "                                       alpha_1=1.0,\n",
    "                                       slash_penalty_2=-10,\n",
    "                                       alpha_2=0.5,\n",
    "                                       early_multiplier=0.001)\n",
    "\n",
    "TIMESTEPS: Days = 50\n",
    "DEALS_PER_NEW_PROVIDER = 3\n",
    "DEAL_DURATION: Days = 5\n",
    "NEW_DEALS_PER_TIME = 1\n",
    "\n",
    "system_over_time = {0: initial_system}\n",
    "system = deepcopy(initial_system)\n",
    "for t in tqdm(range(TIMESTEPS), desc='Simulating Deals'):\n",
    "    # For each timestep:\n",
    "    # T1. Decide if there are new providers to be added.\n",
    "    # T2. Iterate on each provider.\n",
    "\n",
    "    providers = system.providers\n",
    "\n",
    "    # (T1)\n",
    "    providers_to_add_count = 0\n",
    "    if len(providers) == 0:\n",
    "        providers_to_add_count += 3\n",
    "        is_early = True\n",
    "    else:\n",
    "        providers_to_add_count += 1\n",
    "        is_early = False\n",
    "\n",
    "    new_providers = []\n",
    "    for _ in range(providers_to_add_count):\n",
    "        deal = Deal(payment=1.0,\n",
    "                    collateral=1.0,\n",
    "                    duration=DEAL_DURATION,\n",
    "                    start=t,\n",
    "                    is_early=is_early)\n",
    "        deals = [deepcopy(deal) for _ in range(DEALS_PER_NEW_PROVIDER)]\n",
    "        p = Provider(deals)\n",
    "        new_providers.append(p)\n",
    "\n",
    "    # (T2)\n",
    "    for provider in system.providers:\n",
    "        # For each provider:\n",
    "        # P1. Mark as `finished` any applicable deals.\n",
    "        # P2. Decide if there are existing deals to be slashed.\n",
    "        # P3. Decide if there are new deals to be added.\n",
    "\n",
    "        for deal in provider.deals:\n",
    "            # (P1)\n",
    "            if (deal.start + deal.duration) < t:\n",
    "                deal.finished = True\n",
    "            # (P2)\n",
    "            else:\n",
    "                pass\n",
    "\n",
    "        # (P3)\n",
    "        for _ in range(NEW_DEALS_PER_TIME):\n",
    "            d = Deal(payment=1.0,\n",
    "                     collateral=1.0,\n",
    "                     duration=DEAL_DURATION,\n",
    "                     start=t)\n",
    "            provider.deals.append(d)\n",
    "\n",
    "    system.providers = system.providers + new_providers\n",
    "    system_over_time[t + 1] = deepcopy(system)\n"
   ]
  },
  {
   "cell_type": "markdown",
   "metadata": {},
   "source": [
    "## Post-Processsing"
   ]
  },
  {
   "cell_type": "code",
   "execution_count": 25,
   "metadata": {},
   "outputs": [
    {
     "name": "stderr",
     "output_type": "stream",
     "text": [
      "100%|██████████| 51/51 [00:00<00:00, 334.16it/s]\n"
     ]
    }
   ],
   "source": [
    "system_records = []\n",
    "provider_records = []\n",
    "deal_records = []\n",
    "\n",
    "\n",
    "for t, system in tqdm(system_over_time.items()):\n",
    "    meta_record = {'timestep': t}\n",
    "    reduced_system = {k: v\n",
    "                      for k, v in system.__dict__.items()\n",
    "                      if k != 'providers'}\n",
    "    system_records.append({**meta_record,\n",
    "                           **reduced_system})\n",
    "\n",
    "    provider_payoffs_1 = system.payoffs_1()\n",
    "    provider_payoffs_2 = system.payoffs_2()\n",
    "    provider_scores_1 = system.normalize_provider_payoffs(provider_payoffs_1)\n",
    "    provider_scores_2 = system.normalize_provider_payoffs(provider_payoffs_2)\n",
    "    provider_ratings_1 = system.rate_scores(provider_scores_1)\n",
    "    provider_ratings_2 = system.rate_scores(provider_scores_2)\n",
    "\n",
    "    for p, provider in enumerate(system.providers):\n",
    "        meta_record = {'timestep': t,\n",
    "                       'provider': p}\n",
    "        reduced_provider = {k: v\n",
    "                            for k, v in provider.__dict__.items()\n",
    "                            if k != 'deals'}\n",
    "        reduced_provider = {**reduced_provider,\n",
    "                            'provider_payoff_1': provider_payoffs_1[p],\n",
    "                            'provider_payoff_2': provider_payoffs_2[p],\n",
    "                            'score_1': provider_scores_1[p],\n",
    "                            'score_2': provider_scores_2[p],\n",
    "                            'rating_1': provider_ratings_1[p],\n",
    "                            'rating_2': provider_ratings_2[p]\n",
    "                            }\n",
    "\n",
    "        provider_records.append({**meta_record,\n",
    "                                 **reduced_provider})\n",
    "\n",
    "        for d, deal in enumerate(provider.deals):\n",
    "            meta_record = {'timestep': t,\n",
    "                           'provider': p,\n",
    "                           'deal': d}\n",
    "\n",
    "            deal_payoff = {\n",
    "                'deal_payoff_1': deal.payoff_1(system.slash_penalty_1),\n",
    "                'deal_payoff_2': deal.payoff_2(system.slash_penalty_2,\n",
    "                                          system.early_multiplier)\n",
    "            }\n",
    "            deal_records.append({**meta_record,\n",
    "                                 **deal.__dict__.copy(),\n",
    "                                **deal_payoff})\n",
    "\n",
    "index_cols = ['timestep']\n",
    "df_1 = pd.DataFrame(system_records).set_index(index_cols)\n",
    "index_cols.append('provider')\n",
    "df_2 = pd.DataFrame(provider_records).set_index(index_cols)\n",
    "index_cols.append('deal')\n",
    "df_3 = pd.DataFrame(deal_records).set_index(index_cols)\n",
    "\n",
    "ds_1 = xr.Dataset.from_dataframe(df_1)\n",
    "ds_2 = xr.Dataset.from_dataframe(df_2)\n",
    "ds_3 = xr.Dataset.from_dataframe(df_3)\n",
    "ds = xr.merge([ds_1, ds_2, ds_3])"
   ]
  },
  {
   "cell_type": "markdown",
   "metadata": {},
   "source": [
    "## Analysis"
   ]
  },
  {
   "cell_type": "code",
   "execution_count": 26,
   "metadata": {},
   "outputs": [
    {
     "data": {
      "image/png": "[encoded data removed]",
      "text/plain": [
       "<Figure size 432x288 with 2 Axes>"
      ]
     },
     "metadata": {
      "needs_background": "light"
     },
     "output_type": "display_data"
    },
    {
     "data": {
      "image/png": "[encoded data removed]",
      "text/plain": [
       "<Figure size 432x288 with 2 Axes>"
      ]
     },
     "metadata": {
      "needs_background": "light"
     },
     "output_type": "display_data"
    }
   ],
   "source": [
    "ds.score_1.plot()\n",
    "plt.show()\n",
    "\n",
    "ds.score_2.plot()\n",
    "plt.show()"
   ]
  },
  {
   "cell_type": "code",
   "execution_count": 27,
   "metadata": {},
   "outputs": [
    {
     "data": {
      "image/png": "[encoded data removed]",
      "text/plain": [
       "<Figure size 432x288 with 2 Axes>"
      ]
     },
     "metadata": {
      "needs_background": "light"
     },
     "output_type": "display_data"
    },
    {
     "data": {
      "image/png": "[encoded data removed]",
      "text/plain": [
       "<Figure size 432x288 with 2 Axes>"
      ]
     },
     "metadata": {
      "needs_background": "light"
     },
     "output_type": "display_data"
    }
   ],
   "source": [
    "ds.rating_1.plot()\n",
    "plt.show()\n",
    "\n",
    "ds.rating_2.plot()\n",
    "plt.show()"
   ]
  },
  {
   "cell_type": "code",
   "execution_count": 28,
   "metadata": {},
   "outputs": [
    {
     "data": {
      "image/png": "[encoded data removed]",
      "text/plain": [
       "<Figure size 432x288 with 2 Axes>"
      ]
     },
     "metadata": {
      "needs_background": "light"
     },
     "output_type": "display_data"
    },
    {
     "data": {
      "image/png": "[encoded data removed]",
      "text/plain": [
       "<Figure size 432x288 with 2 Axes>"
      ]
     },
     "metadata": {
      "needs_background": "light"
     },
     "output_type": "display_data"
    }
   ],
   "source": [
    "ds.provider_payoff_1.plot()\n",
    "plt.show()\n",
    "\n",
    "ds.provider_payoff_2.plot()\n",
    "plt.show()"
   ]
  }
 ],
 "metadata": {
  "interpreter": {
   "hash": "e7cb1b9ae4d417fedf7f40a8eec98f7cfbd359e096bd857395a915f4609834ce"
  },
  "kernelspec": {
   "display_name": "Python 3.9.5 ('base')",
   "language": "python",
   "name": "python3"
  },
  "language_info": {
   "codemirror_mode": {
    "name": "ipython",
    "version": 3
   },
   "file_extension": ".py",
   "mimetype": "text/x-python",
   "name": "python",
   "nbconvert_exporter": "python",
   "pygments_lexer": "ipython3",
   "version": "3.9.5"
  }
 },
 "nbformat": 4,
 "nbformat_minor": 4
}
